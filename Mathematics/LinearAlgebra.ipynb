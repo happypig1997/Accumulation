{
 "cells": [
  {
   "cell_type": "markdown",
   "metadata": {},
   "source": [
    "# 一些额外看到的 还没归纳到某一类的内容"
   ]
  },
  {
   "cell_type": "markdown",
   "metadata": {},
   "source": [
    "### Numerator Layout 分子布局符号"
   ]
  },
  {
   "cell_type": "markdown",
   "metadata": {},
   "source": [
    "$\\frac{\\partial y}  {\\partial\\mathbf{X}} = \\begin{bmatrix}\n",
    "\\frac{\\partial y}{\\partial x_1} & \\frac{\\partial y}{\\partial x_2}& \\dots &\\frac{\\partial y}{\\partial x_n}\n",
    "\\end{bmatrix} \n",
    "$\n",
    "\n",
    "$\\frac{\\partial \\mathbf{Y}}  {\\partial x} = \\begin{bmatrix}\n",
    "\\frac{\\partial y_1}{\\partial x} \\\\ \\frac{\\partial y_2}{\\partial x} \\\\ \\vdots \\\\ \\frac{\\partial y_n}{\\partial x}\n",
    "\\end{bmatrix}\n",
    "$\n",
    "$\\frac{\\partial \\mathbf{Y}} {\\partial\\mathbf{X}} =\\begin{bmatrix}\\frac{\\partial y_1}{\\partial x_1} & \\frac{\\partial y_1}{\\partial x_2}& \\dots &\\frac{\\partial y_1}{\\partial x_n} \\\\\n",
    "\\frac{\\partial y_2}{\\partial x_1} & \\frac{\\partial y_2}{\\partial x_2}& \\dots &\\frac{\\partial y_2}{\\partial x_n} \\\\ & & \\ddots\\\\\n",
    "\\frac{\\partial y_n}{\\partial x_1} & \\frac{\\partial y_n}{\\partial x_2}& \\dots &\\frac{\\partial y_n}{\\partial x_n} \n",
    "\\end{bmatrix} \n",
    "$\n"
   ]
  },
  {
   "cell_type": "markdown",
   "metadata": {},
   "source": [
    "![](Image/1.png)\n",
    "\n"
   ]
  },
  {
   "cell_type": "markdown",
   "metadata": {},
   "source": [
    "此外还有**Denominator Layout 分母布局符号**"
   ]
  },
  {
   "cell_type": "markdown",
   "metadata": {},
   "source": [
    "结合链式法则求导\n",
    "\n",
    "![](Image/2.png)\n",
    "\n",
    "![](Image/3.png)"
   ]
  },
  {
   "cell_type": "markdown",
   "metadata": {},
   "source": [
    "# Intro "
   ]
  },
  {
   "cell_type": "markdown",
   "metadata": {},
   "source": [
    "### 3.1"
   ]
  },
  {
   "cell_type": "markdown",
   "metadata": {},
   "source": [
    "Space of Vectors\n",
    "\n",
    "Subspace - Column Space"
   ]
  },
  {
   "cell_type": "markdown",
   "metadata": {},
   "source": [
    "### 3.2"
   ]
  },
  {
   "cell_type": "markdown",
   "metadata": {},
   "source": [
    "Null Space: $\\mathbf{A}\\mathcal{x} = \\mathcal{0} \\rightarrow \\mathcal{x}$\n",
    "\n",
    "Reduced Row Echelon Matrix \n",
    "\n",
    "R = rref(A)"
   ]
  },
  {
   "cell_type": "markdown",
   "metadata": {},
   "source": [
    "### 3.3"
   ]
  },
  {
   "cell_type": "markdown",
   "metadata": {},
   "source": [
    "Rank\n",
    "\n",
    "Pivot Column\n",
    "\n",
    "Row Reduced Form"
   ]
  },
  {
   "cell_type": "markdown",
   "metadata": {},
   "source": [
    "### 3.4"
   ]
  },
  {
   "cell_type": "markdown",
   "metadata": {},
   "source": [
    "Particular Solution\n",
    "\n",
    "Special Solution\n",
    "\n",
    "General Solution"
   ]
  },
  {
   "cell_type": "markdown",
   "metadata": {},
   "source": [
    "### 3.5"
   ]
  },
  {
   "cell_type": "markdown",
   "metadata": {},
   "source": []
  }
 ],
 "metadata": {
  "language_info": {
   "name": "python"
  },
  "orig_nbformat": 4
 },
 "nbformat": 4,
 "nbformat_minor": 2
}
