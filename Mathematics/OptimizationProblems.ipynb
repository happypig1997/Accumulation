{
 "cells": [
  {
   "cell_type": "markdown",
   "metadata": {},
   "source": [
    "Taylor's Theorem"
   ]
  },
  {
   "cell_type": "markdown",
   "metadata": {},
   "source": [
    "Gradient Descent"
   ]
  },
  {
   "cell_type": "markdown",
   "metadata": {},
   "source": [
    "Newton Method"
   ]
  },
  {
   "cell_type": "markdown",
   "metadata": {},
   "source": [
    "Lagrange Multilier"
   ]
  },
  {
   "cell_type": "markdown",
   "metadata": {},
   "source": [
    "## Convex Optimization"
   ]
  },
  {
   "cell_type": "markdown",
   "metadata": {},
   "source": [
    "### Convex Set"
   ]
  },
  {
   "cell_type": "markdown",
   "metadata": {},
   "source": [
    "In geometry, a subset of a Euclidean space, or more generally an affine space over the reals, is convex if, given any two points in the subset, the subset contains the whole line segment that joins them.\n",
    "\n",
    "$\\forall \\boldsymbol{x},\\boldsymbol{y} \\quad \\theta \\boldsymbol{x} + (1-\\theta)\\boldsymbol{y} \\in \\mathbb{R}^n $"
   ]
  },
  {
   "cell_type": "markdown",
   "metadata": {},
   "source": [
    "### Affine Space 仿射子空间"
   ]
  },
  {
   "cell_type": "markdown",
   "metadata": {},
   "source": [
    "$\\{\\boldsymbol{x}\\in\\mathbb{R}: \\mathbf{A}\\boldsymbol{x} =\\boldsymbol{b} \\}$"
   ]
  },
  {
   "cell_type": "markdown",
   "metadata": {},
   "source": [
    "$\\mathbf{A}(\\theta \\boldsymbol{x} + (1-\\theta)\\boldsymbol{y}) = \\theta\\mathbf{A}\\boldsymbol{x}+  (1-\\theta)\\mathbf{A}\\boldsymbol{y} = \\theta \\boldsymbol{b} + (1-\\theta)\\boldsymbol{b} = \\boldsymbol{b}$"
   ]
  },
  {
   "cell_type": "markdown",
   "metadata": {},
   "source": [
    "What is the difference between subspace and affine space???"
   ]
  },
  {
   "cell_type": "markdown",
   "metadata": {},
   "source": [
    "仿射空间不一定经过原点(有道理嗷，$\\boldsymbol{x},\\boldsymbol{y}$里面两个都是非0向量就不经过原点)"
   ]
  },
  {
   "cell_type": "markdown",
   "metadata": {},
   "source": [
    "可知：线性等式约束条件定义的可行域是一个凸集"
   ]
  },
  {
   "cell_type": "markdown",
   "metadata": {},
   "source": [
    "很容易intuitively理解这个概念，毕竟子空间就是点/线/面/一整个多维空间，而且都是线性的，满足convex的restriction"
   ]
  },
  {
   "cell_type": "markdown",
   "metadata": {},
   "source": []
  },
  {
   "cell_type": "markdown",
   "metadata": {},
   "source": []
  }
 ],
 "metadata": {
  "language_info": {
   "name": "python"
  },
  "orig_nbformat": 4
 },
 "nbformat": 4,
 "nbformat_minor": 2
}
